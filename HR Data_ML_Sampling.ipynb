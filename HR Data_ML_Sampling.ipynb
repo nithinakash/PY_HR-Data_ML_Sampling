{
 "cells": [
  {
   "cell_type": "markdown",
   "id": "91a11c3f",
   "metadata": {},
   "source": [
    "### Packages Requied"
   ]
  },
  {
   "cell_type": "code",
   "execution_count": 4,
   "id": "f91102f6",
   "metadata": {},
   "outputs": [],
   "source": [
    "import pandas as pd\n",
    "import numpy as np\n",
    "\n",
    "#pip install imblearn\n",
    "from sklearn.utils import resample\n",
    "from imblearn.over_sampling import SMOTE"
   ]
  },
  {
   "cell_type": "markdown",
   "id": "0cb74d30",
   "metadata": {},
   "source": [
    "### Datasets"
   ]
  },
  {
   "cell_type": "code",
   "execution_count": 5,
   "id": "43b45ccc",
   "metadata": {},
   "outputs": [],
   "source": [
    "df = pd.read_csv('C:/Users/Nithin/Downloads/Sampling/Datasets/HR_comma_sep.csv')"
   ]
  },
  {
   "cell_type": "code",
   "execution_count": 6,
   "id": "c93d8e1d",
   "metadata": {},
   "outputs": [
    {
     "name": "stdout",
     "output_type": "stream",
     "text": [
      "<class 'pandas.core.frame.DataFrame'>\n",
      "RangeIndex: 14999 entries, 0 to 14998\n",
      "Data columns (total 10 columns):\n",
      " #   Column                 Non-Null Count  Dtype  \n",
      "---  ------                 --------------  -----  \n",
      " 0   satisfaction_level     14999 non-null  float64\n",
      " 1   last_evaluation        14999 non-null  float64\n",
      " 2   number_project         14999 non-null  int64  \n",
      " 3   average_montly_hours   14999 non-null  int64  \n",
      " 4   time_spend_company     14999 non-null  int64  \n",
      " 5   Work_accident          14999 non-null  int64  \n",
      " 6   left                   14999 non-null  int64  \n",
      " 7   promotion_last_5years  14999 non-null  int64  \n",
      " 8   department             14999 non-null  object \n",
      " 9   salary                 14999 non-null  object \n",
      "dtypes: float64(2), int64(6), object(2)\n",
      "memory usage: 1.1+ MB\n"
     ]
    }
   ],
   "source": [
    "df.info()"
   ]
  },
  {
   "cell_type": "code",
   "execution_count": 7,
   "id": "6d36c802",
   "metadata": {},
   "outputs": [
    {
     "data": {
      "text/plain": [
       "0    11428\n",
       "1     3571\n",
       "Name: left, dtype: int64"
      ]
     },
     "execution_count": 7,
     "metadata": {},
     "output_type": "execute_result"
    }
   ],
   "source": [
    "df.left.value_counts()"
   ]
  },
  {
   "cell_type": "code",
   "execution_count": 8,
   "id": "71609cbf",
   "metadata": {},
   "outputs": [
    {
     "data": {
      "text/plain": [
       "0    76.19\n",
       "1    23.81\n",
       "Name: left, dtype: float64"
      ]
     },
     "execution_count": 8,
     "metadata": {},
     "output_type": "execute_result"
    }
   ],
   "source": [
    "round(df.left.value_counts()/len(df)*100,2)"
   ]
  },
  {
   "cell_type": "markdown",
   "id": "f5427324",
   "metadata": {},
   "source": [
    "### Divide Majority & Minority Samples"
   ]
  },
  {
   "cell_type": "code",
   "execution_count": 9,
   "id": "95f39aeb",
   "metadata": {},
   "outputs": [],
   "source": [
    "df_maj = df[df.left==0]\n",
    "df_min = df[df.left==1]"
   ]
  },
  {
   "cell_type": "code",
   "execution_count": 10,
   "id": "8450eb94",
   "metadata": {},
   "outputs": [
    {
     "data": {
      "text/plain": [
       "(11428, 10)"
      ]
     },
     "execution_count": 10,
     "metadata": {},
     "output_type": "execute_result"
    }
   ],
   "source": [
    "df_maj.shape"
   ]
  },
  {
   "cell_type": "code",
   "execution_count": 11,
   "id": "fd816d6e",
   "metadata": {},
   "outputs": [
    {
     "data": {
      "text/plain": [
       "(3571, 10)"
      ]
     },
     "execution_count": 11,
     "metadata": {},
     "output_type": "execute_result"
    }
   ],
   "source": [
    "df_min.shape"
   ]
  },
  {
   "cell_type": "markdown",
   "id": "5ed9d147",
   "metadata": {},
   "source": [
    "### Oversampling | Upsampling"
   ]
  },
  {
   "cell_type": "code",
   "execution_count": 12,
   "id": "450c6e78",
   "metadata": {},
   "outputs": [],
   "source": [
    "df_min_upsample = resample(df_min,\n",
    "                           replace=True,\n",
    "                           n_samples=df_maj.shape[0],\n",
    "                           random_state=123)"
   ]
  },
  {
   "cell_type": "code",
   "execution_count": 13,
   "id": "cb5de5ef",
   "metadata": {},
   "outputs": [
    {
     "data": {
      "text/plain": [
       "(11428, 10)"
      ]
     },
     "execution_count": 13,
     "metadata": {},
     "output_type": "execute_result"
    }
   ],
   "source": [
    "df_min_upsample.shape"
   ]
  },
  {
   "cell_type": "markdown",
   "id": "75ff0947",
   "metadata": {},
   "source": [
    "### Undersampling"
   ]
  },
  {
   "cell_type": "code",
   "execution_count": 14,
   "id": "3ba230c1",
   "metadata": {},
   "outputs": [],
   "source": [
    "df_maj_downsample = resample(df_maj,\n",
    "                           replace=False,\n",
    "                           n_samples=df_min.shape[0],\n",
    "                           random_state=123)"
   ]
  },
  {
   "cell_type": "code",
   "execution_count": 15,
   "id": "0fab52df",
   "metadata": {
    "scrolled": true
   },
   "outputs": [
    {
     "data": {
      "text/plain": [
       "(3571, 10)"
      ]
     },
     "execution_count": 15,
     "metadata": {},
     "output_type": "execute_result"
    }
   ],
   "source": [
    "df_maj_downsample.shape"
   ]
  },
  {
   "cell_type": "markdown",
   "id": "26eafb19",
   "metadata": {},
   "source": [
    "### Hybridsampling"
   ]
  },
  {
   "cell_type": "code",
   "execution_count": 16,
   "id": "625b1f66",
   "metadata": {},
   "outputs": [
    {
     "data": {
      "text/plain": [
       "7499.5"
      ]
     },
     "execution_count": 16,
     "metadata": {},
     "output_type": "execute_result"
    }
   ],
   "source": [
    "df.left.value_counts().sum()/2"
   ]
  },
  {
   "cell_type": "code",
   "execution_count": 17,
   "id": "1405b49e",
   "metadata": {},
   "outputs": [],
   "source": [
    "df_min_upsample_H = resample(df_min,\n",
    "                           replace=True,\n",
    "                           n_samples=7500,\n",
    "                           random_state=123)"
   ]
  },
  {
   "cell_type": "code",
   "execution_count": 18,
   "id": "89e663f6",
   "metadata": {},
   "outputs": [],
   "source": [
    "df_maj_downsample_H = resample(df_maj,\n",
    "                           replace=False,\n",
    "                           n_samples=7500,\n",
    "                           random_state=123)"
   ]
  },
  {
   "cell_type": "code",
   "execution_count": 19,
   "id": "e1b203e2",
   "metadata": {},
   "outputs": [
    {
     "data": {
      "text/plain": [
       "(7500, 10)"
      ]
     },
     "execution_count": 19,
     "metadata": {},
     "output_type": "execute_result"
    }
   ],
   "source": [
    "df_min_upsample_H.shape"
   ]
  },
  {
   "cell_type": "code",
   "execution_count": 20,
   "id": "9d622154",
   "metadata": {
    "scrolled": true
   },
   "outputs": [
    {
     "data": {
      "text/plain": [
       "(7500, 10)"
      ]
     },
     "execution_count": 20,
     "metadata": {},
     "output_type": "execute_result"
    }
   ],
   "source": [
    "df_maj_downsample_H.shape"
   ]
  },
  {
   "cell_type": "markdown",
   "id": "cded9408",
   "metadata": {},
   "source": [
    "### Alternative Method (SMOTE)"
   ]
  },
  {
   "cell_type": "code",
   "execution_count": 39,
   "id": "4b1e6dbe",
   "metadata": {},
   "outputs": [
    {
     "name": "stdout",
     "output_type": "stream",
     "text": [
      "<class 'pandas.core.frame.DataFrame'>\n",
      "RangeIndex: 14999 entries, 0 to 14998\n",
      "Data columns (total 10 columns):\n",
      " #   Column                 Non-Null Count  Dtype  \n",
      "---  ------                 --------------  -----  \n",
      " 0   satisfaction_level     14999 non-null  float64\n",
      " 1   last_evaluation        14999 non-null  float64\n",
      " 2   number_project         14999 non-null  int64  \n",
      " 3   average_montly_hours   14999 non-null  int64  \n",
      " 4   time_spend_company     14999 non-null  int64  \n",
      " 5   Work_accident          14999 non-null  int64  \n",
      " 6   left                   14999 non-null  int64  \n",
      " 7   promotion_last_5years  14999 non-null  int64  \n",
      " 8   department             14999 non-null  object \n",
      " 9   salary                 14999 non-null  object \n",
      "dtypes: float64(2), int64(6), object(2)\n",
      "memory usage: 1.1+ MB\n"
     ]
    }
   ],
   "source": [
    "df.info()"
   ]
  },
  {
   "cell_type": "code",
   "execution_count": 28,
   "id": "1409137d",
   "metadata": {},
   "outputs": [
    {
     "data": {
      "text/plain": [
       "Index(['satisfaction_level', 'last_evaluation', 'number_project',\n",
       "       'average_montly_hours', 'time_spend_company', 'Work_accident', 'left',\n",
       "       'promotion_last_5years', 'department', 'salary'],\n",
       "      dtype='object')"
      ]
     },
     "execution_count": 28,
     "metadata": {},
     "output_type": "execute_result"
    }
   ],
   "source": [
    "df.columns"
   ]
  },
  {
   "cell_type": "code",
   "execution_count": 40,
   "id": "4d3a2c98",
   "metadata": {},
   "outputs": [],
   "source": [
    "X = df[['satisfaction_level', 'last_evaluation', 'number_project',\n",
    "       'average_montly_hours', 'time_spend_company', 'Work_accident',\n",
    "       'promotion_last_5years']]\n",
    "Y = df['left']"
   ]
  },
  {
   "cell_type": "code",
   "execution_count": 42,
   "id": "85fa0651",
   "metadata": {},
   "outputs": [],
   "source": [
    "SM = SMOTE(random_state=42)"
   ]
  },
  {
   "cell_type": "code",
   "execution_count": 43,
   "id": "8728cb52",
   "metadata": {},
   "outputs": [],
   "source": [
    "res_x,res_y = SM.fit_resample(X,Y)"
   ]
  },
  {
   "cell_type": "code",
   "execution_count": 44,
   "id": "d7db451c",
   "metadata": {},
   "outputs": [],
   "source": [
    "y_new = pd.Series(res_y)"
   ]
  },
  {
   "cell_type": "code",
   "execution_count": 45,
   "id": "5bc09365",
   "metadata": {},
   "outputs": [
    {
     "data": {
      "text/plain": [
       "1    11428\n",
       "0    11428\n",
       "Name: left, dtype: int64"
      ]
     },
     "execution_count": 45,
     "metadata": {},
     "output_type": "execute_result"
    }
   ],
   "source": [
    "y_new.value_counts()"
   ]
  }
 ],
 "metadata": {
  "kernelspec": {
   "display_name": "Python 3 (ipykernel)",
   "language": "python",
   "name": "python3"
  },
  "language_info": {
   "codemirror_mode": {
    "name": "ipython",
    "version": 3
   },
   "file_extension": ".py",
   "mimetype": "text/x-python",
   "name": "python",
   "nbconvert_exporter": "python",
   "pygments_lexer": "ipython3",
   "version": "3.9.7"
  }
 },
 "nbformat": 4,
 "nbformat_minor": 5
}
